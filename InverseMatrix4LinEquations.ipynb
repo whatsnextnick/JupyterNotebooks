{
 "cells": [
  {
   "cell_type": "code",
   "execution_count": 8,
   "id": "3e62d2eb-99a8-4f69-9d95-2bedbc9724aa",
   "metadata": {},
   "outputs": [
    {
     "data": {
      "text/plain": [
       "(array([[1, 1, 1],\n",
       "        [3, 2, 1],\n",
       "        [2, 1, 2]]),\n",
       " array([15, 28, 23]))"
      ]
     },
     "execution_count": 8,
     "metadata": {},
     "output_type": "execute_result"
    }
   ],
   "source": [
    "import numpy as np\n",
    "from fractions import Fraction\n",
    "\n",
    "# Constructing the matrix A and vector s from the given transactions\n",
    "A = np.array([[1, 1, 1],\n",
    "              [3, 2, 1],\n",
    "              [2, 1, 2]])\n",
    "\n",
    "s = np.array([15, 28, 23])\n",
    "\n",
    "# Displaying the components of A and s\n",
    "A, s\n"
   ]
  },
  {
   "cell_type": "code",
   "execution_count": 9,
   "id": "92938873-4718-4a27-af00-514a85e645dc",
   "metadata": {},
   "outputs": [
    {
     "data": {
      "text/plain": [
       "(array([[1, 1, 1],\n",
       "        [3, 2, 1],\n",
       "        [2, 1, 2]]),\n",
       " array([15, 28, 23]))"
      ]
     },
     "execution_count": 9,
     "metadata": {},
     "output_type": "execute_result"
    }
   ],
   "source": [
    "# Constructing the matrix A and vector s from the given transactions\n",
    "A = np.array([[1, 1, 1],\n",
    "              [3, 2, 1],\n",
    "              [2, 1, 2]])\n",
    "\n",
    "s = np.array([15, 28, 23])\n",
    "\n",
    "# Displaying the components of A and s\n",
    "A, s\n"
   ]
  },
  {
   "cell_type": "code",
   "execution_count": 10,
   "id": "c03c8e8d-6a94-4067-8ede-2a1e8e7298dc",
   "metadata": {},
   "outputs": [
    {
     "data": {
      "text/plain": [
       "[Fraction(3, 1), Fraction(7, 1), Fraction(5, 1)]"
      ]
     },
     "execution_count": 10,
     "metadata": {},
     "output_type": "execute_result"
    }
   ],
   "source": [
    "# Solving the system of equations using numpy's linear algebra solver\n",
    "prices = np.linalg.solve(A, s)\n",
    "\n",
    "# Convert the result to an array of fractions\n",
    "prices_fraction = [Fraction(x).limit_denominator() for x in prices]\n",
    "\n",
    "prices_fraction\n"
   ]
  },
  {
   "cell_type": "code",
   "execution_count": null,
   "id": "4f24587e-0b0b-4397-85f4-d9a22375fe02",
   "metadata": {},
   "outputs": [],
   "source": []
  },
  {
   "cell_type": "code",
   "execution_count": null,
   "id": "14459939-d1e8-49d5-a396-bd948823bef4",
   "metadata": {},
   "outputs": [],
   "source": []
  },
  {
   "cell_type": "code",
   "execution_count": null,
   "id": "728ae059-da7a-4282-ba5b-6dc0814f181d",
   "metadata": {},
   "outputs": [],
   "source": []
  }
 ],
 "metadata": {
  "kernelspec": {
   "display_name": "Python 3 (ipykernel)",
   "language": "python",
   "name": "python3"
  },
  "language_info": {
   "codemirror_mode": {
    "name": "ipython",
    "version": 3
   },
   "file_extension": ".py",
   "mimetype": "text/x-python",
   "name": "python",
   "nbconvert_exporter": "python",
   "pygments_lexer": "ipython3",
   "version": "3.11.5"
  }
 },
 "nbformat": 4,
 "nbformat_minor": 5
}
