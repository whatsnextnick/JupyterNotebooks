{
 "cells": [
  {
   "cell_type": "code",
   "execution_count": 2,
   "id": "cc343c00-c241-4fc7-8639-0c6a49d128a5",
   "metadata": {},
   "outputs": [
    {
     "data": {
      "text/plain": [
       "1.0"
      ]
     },
     "execution_count": 2,
     "metadata": {},
     "output_type": "execute_result"
    }
   ],
   "source": [
    "import numpy as np\n",
    "#Are the following vectors linearly independent:\n",
    "#a = [1, 0, 0], b =[1, 1, 1], and c = [1, 0, 1]?\n",
    "\n",
    "# Redefining the vectors\n",
    "a = [1, 0, 0]\n",
    "b = [1, 1, 1]\n",
    "c = [1, 0, 1]\n",
    "\n",
    "# Defining the matrix with vectors as columns\n",
    "matrix = np.array([a, b, c]).T\n",
    "\n",
    "# Compute the determinant of the matrix\n",
    "determinant = np.linalg.det(matrix)\n",
    "determinant\n"
   ]
  },
  {
   "cell_type": "code",
   "execution_count": null,
   "id": "030451ac-8b36-4f61-908a-b358fdae3906",
   "metadata": {},
   "outputs": [],
   "source": []
  }
 ],
 "metadata": {
  "kernelspec": {
   "display_name": "Python 3 (ipykernel)",
   "language": "python",
   "name": "python3"
  },
  "language_info": {
   "codemirror_mode": {
    "name": "ipython",
    "version": 3
   },
   "file_extension": ".py",
   "mimetype": "text/x-python",
   "name": "python",
   "nbconvert_exporter": "python",
   "pygments_lexer": "ipython3",
   "version": "3.11.5"
  }
 },
 "nbformat": 4,
 "nbformat_minor": 5
}
