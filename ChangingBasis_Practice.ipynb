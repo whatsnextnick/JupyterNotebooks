{
 "cells": [
  {
   "cell_type": "code",
   "execution_count": 11,
   "metadata": {},
   "outputs": [],
   "source": [
    "import numpy as np\n",
    "from fractions import Fraction"
   ]
  },
  {
   "cell_type": "code",
   "execution_count": 2,
   "metadata": {},
   "outputs": [],
   "source": [
    "# Given vectors v = [10, -5], b1 = [3, 4] and b2 = [4, -3]\n",
    "# all written in the standard basis, what is v in the basis defined by b1 and b2\n",
    "# given that b1 and b2 are orthogonal to each other."
   ]
  },
  {
   "cell_type": "code",
   "execution_count": 10,
   "metadata": {},
   "outputs": [
    {
     "ename": "AttributeError",
     "evalue": "module 'numpy' has no attribute 'frac'",
     "output_type": "error",
     "traceback": [
      "\u001b[1;31m---------------------------------------------------------------------------\u001b[0m",
      "\u001b[1;31mAttributeError\u001b[0m                            Traceback (most recent call last)",
      "Cell \u001b[1;32mIn[10], line 6\u001b[0m\n\u001b[0;32m      3\u001b[0m b1 \u001b[38;5;241m=\u001b[39m np\u001b[38;5;241m.\u001b[39marray([\u001b[38;5;241m3\u001b[39m, \u001b[38;5;241m4\u001b[39m])\n\u001b[0;32m      4\u001b[0m b2 \u001b[38;5;241m=\u001b[39m np\u001b[38;5;241m.\u001b[39marray([\u001b[38;5;241m4\u001b[39m, \u001b[38;5;241m-\u001b[39m\u001b[38;5;241m3\u001b[39m])\n\u001b[1;32m----> 6\u001b[0m c1 \u001b[38;5;241m=\u001b[39m \u001b[43mnp\u001b[49m\u001b[38;5;241;43m.\u001b[39;49m\u001b[43mfrac\u001b[49m(np\u001b[38;5;241m.\u001b[39mdot(v, b1) \u001b[38;5;241m/\u001b[39m np\u001b[38;5;241m.\u001b[39mdot(b1, b1))\n\u001b[0;32m      7\u001b[0m c2 \u001b[38;5;241m=\u001b[39m np\u001b[38;5;241m.\u001b[39mfrac(np\u001b[38;5;241m.\u001b[39mdot(v, b2) \u001b[38;5;241m/\u001b[39m np\u001b[38;5;241m.\u001b[39mdot(b2, b2))\n\u001b[0;32m      9\u001b[0m v_newexpression \u001b[38;5;241m=\u001b[39m np\u001b[38;5;241m.\u001b[39mfrac(c1\u001b[38;5;241m/\u001b[39mc2)\n",
      "File \u001b[1;32m~\\OneDrive\\Desktop\\Python_Data_Science_Notes\\JupyterNotebooks\\myenv\\Lib\\site-packages\\numpy\\__init__.py:347\u001b[0m, in \u001b[0;36m__getattr__\u001b[1;34m(attr)\u001b[0m\n\u001b[0;32m    344\u001b[0m     \u001b[38;5;124m\"\u001b[39m\u001b[38;5;124mRemoved in NumPy 1.25.0\u001b[39m\u001b[38;5;124m\"\u001b[39m\n\u001b[0;32m    345\u001b[0m     \u001b[38;5;28;01mraise\u001b[39;00m \u001b[38;5;167;01mRuntimeError\u001b[39;00m(\u001b[38;5;124m\"\u001b[39m\u001b[38;5;124mTester was removed in NumPy 1.25.\u001b[39m\u001b[38;5;124m\"\u001b[39m)\n\u001b[1;32m--> 347\u001b[0m \u001b[38;5;28;01mraise\u001b[39;00m \u001b[38;5;167;01mAttributeError\u001b[39;00m(\u001b[38;5;124m\"\u001b[39m\u001b[38;5;124mmodule \u001b[39m\u001b[38;5;132;01m{!r}\u001b[39;00m\u001b[38;5;124m has no attribute \u001b[39m\u001b[38;5;124m\"\u001b[39m\n\u001b[0;32m    348\u001b[0m                      \u001b[38;5;124m\"\u001b[39m\u001b[38;5;132;01m{!r}\u001b[39;00m\u001b[38;5;124m\"\u001b[39m\u001b[38;5;241m.\u001b[39mformat(\u001b[38;5;18m__name__\u001b[39m, attr))\n",
      "\u001b[1;31mAttributeError\u001b[0m: module 'numpy' has no attribute 'frac'"
     ]
    }
   ],
   "source": [
    "#1st find the dot product of v and b1 and divide that by the dot product of b1 to itself\n",
    "v = np.array([10, -5])\n",
    "b1 = np.array([3, 4])\n",
    "b2 = np.array([4, -3])\n",
    "\n",
    "c1 = np.frac(np.dot(v, b1) / np.dot(b1, b1))\n",
    "c2 = np.frac(np.dot(v, b2) / np.dot(b2, b2))\n",
    "\n",
    "v_newexpression = np.frac(c1/c2)\n",
    "print(v_newexpression)"
   ]
  },
  {
   "cell_type": "code",
   "execution_count": 9,
   "metadata": {},
   "outputs": [
    {
     "name": "stdout",
     "output_type": "stream",
     "text": [
      "0.4 2.2\n"
     ]
    }
   ],
   "source": [
    "print(c1, c2)"
   ]
  },
  {
   "cell_type": "code",
   "execution_count": 27,
   "metadata": {},
   "outputs": [],
   "source": [
    "#creating a function to solve all practice questions\n",
    "def new_coordinates(vect, basis1, basis2):\n",
    "    c1 = np.dot(vect, basis1) / np.dot(basis1, basis1)\n",
    "    c2 = np.dot(vect, basis2) / np.dot(basis2, basis2)\n",
    "    \n",
    "    new_vector = np.array([Fraction(c1).limit_denominator() , Fraction(c2).limit_denominator()])\n",
    "    return new_vector"
   ]
  },
  {
   "cell_type": "code",
   "execution_count": 28,
   "metadata": {},
   "outputs": [
    {
     "data": {
      "text/plain": [
       "array([Fraction(-2, 5), Fraction(4, 5)], dtype=object)"
      ]
     },
     "execution_count": 28,
     "metadata": {},
     "output_type": "execute_result"
    }
   ],
   "source": [
    "a = np.array([2, 2])\n",
    "ba = np.array([-3, 1])\n",
    "bb = np.array([1, 3])\n",
    "new_coordinates(a, ba, bb)"
   ]
  },
  {
   "cell_type": "code",
   "execution_count": 38,
   "metadata": {},
   "outputs": [],
   "source": [
    "va = np.array([1, 1, 1])\n",
    "bc = np.array([2, 1, 0])\n",
    "bd = np.array([1, -2, -2])\n",
    "be = np.array([-1, 2, -5])\n",
    "arrayarray = np.array([va, bc, bd, be])"
   ]
  },
  {
   "cell_type": "code",
   "execution_count": 54,
   "metadata": {},
   "outputs": [],
   "source": [
    "def updated_coordinates(array_of_arrays):\n",
    "    new_vector = []\n",
    "    for i in array_of_arrays:\n",
    "        new_vector.append(np.dot(array_of_arrays[0], array_of_arrays[1]) / np.dot(array_of_arrays[0+i], array_of_arrays[0+1]))\n",
    "    return new_vector"
   ]
  },
  {
   "cell_type": "code",
   "execution_count": 55,
   "metadata": {},
   "outputs": [
    {
     "name": "stderr",
     "output_type": "stream",
     "text": [
      "C:\\Users\\njmon\\AppData\\Local\\Temp\\ipykernel_8084\\2558094773.py:4: RuntimeWarning: divide by zero encountered in divide\n",
      "  new_vector.append(np.dot(array_of_arrays[0], array_of_arrays[1]) / np.dot(array_of_arrays[0+i], array_of_arrays[0+1]))\n"
     ]
    },
    {
     "ename": "IndexError",
     "evalue": "index -5 is out of bounds for axis 0 with size 4",
     "output_type": "error",
     "traceback": [
      "\u001b[1;31m---------------------------------------------------------------------------\u001b[0m",
      "\u001b[1;31mIndexError\u001b[0m                                Traceback (most recent call last)",
      "Cell \u001b[1;32mIn[55], line 1\u001b[0m\n\u001b[1;32m----> 1\u001b[0m \u001b[43mupdated_coordinates\u001b[49m\u001b[43m(\u001b[49m\u001b[43marrayarray\u001b[49m\u001b[43m)\u001b[49m\n",
      "Cell \u001b[1;32mIn[54], line 4\u001b[0m, in \u001b[0;36mupdated_coordinates\u001b[1;34m(array_of_arrays)\u001b[0m\n\u001b[0;32m      2\u001b[0m new_vector \u001b[38;5;241m=\u001b[39m []\n\u001b[0;32m      3\u001b[0m \u001b[38;5;28;01mfor\u001b[39;00m i \u001b[38;5;129;01min\u001b[39;00m array_of_arrays:\n\u001b[1;32m----> 4\u001b[0m     new_vector\u001b[38;5;241m.\u001b[39mappend(np\u001b[38;5;241m.\u001b[39mdot(array_of_arrays[\u001b[38;5;241m0\u001b[39m], array_of_arrays[\u001b[38;5;241m1\u001b[39m]) \u001b[38;5;241m/\u001b[39m np\u001b[38;5;241m.\u001b[39mdot(\u001b[43marray_of_arrays\u001b[49m\u001b[43m[\u001b[49m\u001b[38;5;241;43m0\u001b[39;49m\u001b[38;5;241;43m+\u001b[39;49m\u001b[43mi\u001b[49m\u001b[43m]\u001b[49m, array_of_arrays[\u001b[38;5;241m0\u001b[39m\u001b[38;5;241m+\u001b[39m\u001b[38;5;241m1\u001b[39m]))\n\u001b[0;32m      5\u001b[0m \u001b[38;5;28;01mreturn\u001b[39;00m new_vector\n",
      "\u001b[1;31mIndexError\u001b[0m: index -5 is out of bounds for axis 0 with size 4"
     ]
    }
   ],
   "source": [
    "updated_coordinates(arrayarray)"
   ]
  },
  {
   "cell_type": "code",
   "execution_count": null,
   "metadata": {},
   "outputs": [],
   "source": []
  },
  {
   "cell_type": "code",
   "execution_count": null,
   "metadata": {},
   "outputs": [],
   "source": []
  }
 ],
 "metadata": {
  "kernelspec": {
   "display_name": "Python 3 (ipykernel)",
   "language": "python",
   "name": "python3"
  },
  "language_info": {
   "codemirror_mode": {
    "name": "ipython",
    "version": 3
   },
   "file_extension": ".py",
   "mimetype": "text/x-python",
   "name": "python",
   "nbconvert_exporter": "python",
   "pygments_lexer": "ipython3",
   "version": "3.11.5"
  }
 },
 "nbformat": 4,
 "nbformat_minor": 4
}
