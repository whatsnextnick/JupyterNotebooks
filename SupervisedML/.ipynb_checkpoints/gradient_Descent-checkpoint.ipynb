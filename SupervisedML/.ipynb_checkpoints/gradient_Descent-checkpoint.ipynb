{
 "cells": [
  {
   "cell_type": "code",
   "execution_count": 5,
   "id": "cc8960b5-d140-4fd7-bc4c-78ceb6f79613",
   "metadata": {},
   "outputs": [],
   "source": [
    "import math, copy\n",
    "import numpy as np \n",
    "import matplotlib.pyplot as plt"
   ]
  },
  {
   "cell_type": "code",
   "execution_count": 7,
   "id": "ec12916b-4f2a-46e2-9373-f0830575bb1d",
   "metadata": {},
   "outputs": [],
   "source": [
    "#Creating a simple data set - a house with 1000 sq fr sold for $300k and a house w 2000 sq ft sold for $500k\n",
    "x_train = np.array([1.0, 2.0]) # features\n",
    "y_train = np.array([300.0, 500.0]) #target value "
   ]
  },
  {
   "cell_type": "code",
   "execution_count": 9,
   "id": "2ae1a93c-2ccb-4de4-926d-773792570645",
   "metadata": {},
   "outputs": [],
   "source": [
    "#Compute_Cost\n",
    "def compute_cost(x, y, w, b): # x are an array of feature values, y target values, w(eight) and b(ias/y-intercept) are parameters for the linear model\n",
    "\n",
    "    # Initializing variables\n",
    "    m = x.shape[0] # determines the number of training examples 'm' by getting the size of the 'x' array\n",
    "    cost = 0 # initializes the cost to zero. This will accumulate the squared errors for each training example.\n",
    "\n",
    "    #calculate total cost\n",
    "    for i in range(m): # iterate over each training example\n",
    "        f_wb = w * x[i] + b # calculates the predicted value('f_wb') for the current training example using the model parameters 'w' and 'b'.\n",
    "        cost = cost + (f_wb - y[i])**2 # updates the total cost by adding the squared difference between the predicted and target value. \n",
    "                                       # This squared difference is a common way to measure the error for a single training example in regression tasks\n",
    "    \n",
    "    #averaging and scaling the total cost \n",
    "    total_cost = 1 / (2 * m) * cost # after summing the squared errors for all examples, this line scales the total cost by dividing it by 2m. \n",
    "                                    # The division by 2 is a common convention that simplifies the derivative of the cost function when performing \n",
    "                                    # gradient descent. The division by m ensures that the cost is an average, so it's not directly influenced by the \n",
    "                                    # number of examples\n",
    "\n",
    "    return total_cost"
   ]
  },
  {
   "cell_type": "markdown",
   "id": "abd0a641-be80-4b58-a258-7dac4b1a6d93",
   "metadata": {},
   "source": [
    "To implement gradient descent algorithm for one feature, we will need these three functions:\n",
    "- 'compute_gradient'\n",
    "- 'compute_cost'\n",
    "- 'gadient_descent', utilizing compute_gradient and compute_cost"
   ]
  },
  {
   "cell_type": "code",
   "execution_count": 10,
   "id": "01abd13a-2814-4b08-a682-b8292cf6134b",
   "metadata": {},
   "outputs": [],
   "source": [
    "def compute_gradient(x, y, w, b): \n",
    "\n",
    "    # Number of training examples\n",
    "    m = x.shape[0]    \n",
    "\n",
    "    # Inializing variables\n",
    "    dj_dw = 0 #initializes the gradient of the cost with respect to 'w' to 0\n",
    "    dj_db = 0 #initializes the gradient of the cost with respect 'b' to 0\n",
    "\n",
    "    #calculating gradients\n",
    "    for i in range(m):  #iterates over each training example\n",
    "        f_wb = w * x[i] + b #calculates the prediction ('f_wb') for the current training example using the model parameters 'w' and 'b'\n",
    "        dj_dw_i = (f_wb - y[i]) * x[i] #Computes the gradient of the cost with respect to 'w' for the current example.\n",
    "        dj_db_i = f_wb - y[i]  #Computes the gradient of the cost with respect to 'b' for the current example.\n",
    "        dj_db += dj_db_i #Accumalates the gradients for all training examples\n",
    "        dj_dw += dj_dw_i #Accumalates the gradients for all training examples\n",
    "\n",
    "    #averaging gradients\n",
    "    dj_dw = dj_dw / m  \n",
    "    dj_db = dj_db / m \n",
    "    #After summing the gradients for each example, these lines average the gradients by dividing by the number of examples 'm'. \n",
    "    #This is important for scaling the gradient approprately regardless of the dataset size.\n",
    "        \n",
    "    return dj_dw, dj_db"
   ]
  },
  {
   "cell_type": "code",
   "execution_count": 11,
   "id": "8a2720f4-6f9e-4d59-9ea6-b97eddf90abb",
   "metadata": {},
   "outputs": [
    {
     "ename": "NameError",
     "evalue": "name 'plt_gradients' is not defined",
     "output_type": "error",
     "traceback": [
      "\u001b[1;31m---------------------------------------------------------------------------\u001b[0m",
      "\u001b[1;31mNameError\u001b[0m                                 Traceback (most recent call last)",
      "Cell \u001b[1;32mIn[11], line 2\u001b[0m\n\u001b[0;32m      1\u001b[0m \u001b[38;5;66;03m#plotting gradients\u001b[39;00m\n\u001b[1;32m----> 2\u001b[0m \u001b[43mplt_gradients\u001b[49m(x_train, y_train, compute_cost, compute\u001b[38;5;241m<\u001b[39m_gradient)\n\u001b[0;32m      3\u001b[0m plt\u001b[38;5;241m.\u001b[39mshow()\n",
      "\u001b[1;31mNameError\u001b[0m: name 'plt_gradients' is not defined"
     ]
    }
   ],
   "source": [
    "#plotting gradients\n",
    "plt_gradients(x_train, y_train, compute_cost, compute_gradient)\n",
    "plt.show()"
   ]
  },
  {
   "cell_type": "code",
   "execution_count": null,
   "id": "678f8a23-be0b-4303-a300-fe0aa1800b6e",
   "metadata": {},
   "outputs": [],
   "source": []
  }
 ],
 "metadata": {
  "kernelspec": {
   "display_name": "Python 3 (ipykernel)",
   "language": "python",
   "name": "python3"
  },
  "language_info": {
   "codemirror_mode": {
    "name": "ipython",
    "version": 3
   },
   "file_extension": ".py",
   "mimetype": "text/x-python",
   "name": "python",
   "nbconvert_exporter": "python",
   "pygments_lexer": "ipython3",
   "version": "3.11.5"
  }
 },
 "nbformat": 4,
 "nbformat_minor": 5
}
