{
 "cells": [
  {
   "cell_type": "code",
   "execution_count": 1,
   "id": "f0a3807b-d93e-47da-9d95-0d6220f2d8c8",
   "metadata": {},
   "outputs": [],
   "source": [
    "# The objective of linear regression is to find the right parameters ((w)eight & (b)alance) so that we can find the best line fit for our model. \n",
    "#The way we evaluate how accurate our model's predictions are, is by calculating the cost function J(w,b). We can, through the process of 1/2m * sum of n = 1 to"
   ]
  },
  {
   "cell_type": "code",
   "execution_count": 2,
   "id": "12dbba8f-10fe-4fe1-b065-e462caea50e6",
   "metadata": {},
   "outputs": [],
   "source": [
    "# UNQ_C1\n",
    "# GRADED FUNCTION: compute_cost\n",
    "\n",
    "def compute_cost(x, y, w, b): \n",
    "    \"\"\"\n",
    "    Computes the cost function for linear regression.\n",
    "    \n",
    "    Args:\n",
    "        x (ndarray): Shape (m,) Input to the model (Population of cities) \n",
    "        y (ndarray): Shape (m,) Label (Actual profits for the cities)\n",
    "        w, b (scalar): Parameters of the model\n",
    "    \n",
    "    Returns\n",
    "        total_cost (float): The cost of using w,b as the parameters for linear regression\n",
    "               to fit the data points in x and y\n",
    "    \"\"\"\n",
    "    # number of training examples\n",
    "    m = x.shape[0] \n",
    "    \n",
    "    # You need to return this variable correctly\n",
    "    total_cost = 0\n",
    "    \n",
    "    ### START CODE HERE ###\n",
    "    predictions = w * x + b\n",
    "\n",
    "    errors = predictions - y \n",
    "\n",
    "    errors_squared = errors ** 2\n",
    "\n",
    "    means_squared_errors = 1 / (2 * m) * np.sum(errors_squared)\n",
    "\n",
    "    total_cost = means_squared_errors\n",
    "\n",
    "    ### END CODE HERE ### \n",
    "\n",
    "    return total_cost"
   ]
  },
  {
   "cell_type": "code",
   "execution_count": 4,
   "id": "f84a7d06-a222-4201-ac88-df790a30865e",
   "metadata": {},
   "outputs": [],
   "source": [
    "import numpy as np\n",
    "\n",
    "def compute_gradient(x, y, w, b): \n",
    "    \"\"\"\n",
    "    Computes the gradient for linear regression \n",
    "    Args:\n",
    "      x (ndarray): Shape (m,) Input to the model (Population of cities) \n",
    "      y (ndarray): Shape (m,) Label (Actual profits for the cities)\n",
    "      w, b (scalar): Parameters of the model  \n",
    "    Returns\n",
    "      dj_dw (scalar): The gradient of the cost w.r.t. the parameters w\n",
    "      dj_db (scalar): The gradient of the cost w.r.t. the parameter b     \n",
    "    \"\"\"\n",
    "\n",
    "    # Number of training examples\n",
    "    m = x.shape[0]\n",
    "\n",
    "    # Initializing gradients\n",
    "    dj_dw = 0\n",
    "    dj_db = 0\n",
    "\n",
    "    ### START CODE HERE ### \n",
    "    # Loop over examples\n",
    "    for i in range(m):  \n",
    "        # Calculate prediction for the ith example\n",
    "        \n",
    "        f_wb = w * x[i] + b\n",
    "\n",
    "        # Calculate the gradient for w from the ith example \n",
    "        dj_dw_i = (f_wb - y[i]) * x[i]\n",
    "\n",
    "        # Calculate the gradient for b from the ith example \n",
    "        dj_db_i = f_wb - y[i]\n",
    "\n",
    "        # Update dj_db\n",
    "        dj_db += dj_db_i\n",
    "\n",
    "        # Update dj_dw\n",
    "        dj_dw += dj_dw_i\n",
    "\n",
    "    # Divide both dj_dw and dj_db by m to get the average\n",
    "    dj_dw = dj_dw / m\n",
    "    dj_db = dj_db / m\n",
    "    ### END CODE HERE ### \n",
    "    print(type(f_wb))\n",
    "    return dj_dw, dj_db\n"
   ]
  },
  {
   "cell_type": "code",
   "execution_count": null,
   "id": "1ff8c5e9-5a17-4269-89e3-98f566e6da9e",
   "metadata": {},
   "outputs": [],
   "source": [
    "I"
   ]
  }
 ],
 "metadata": {
  "kernelspec": {
   "display_name": "Python 3 (ipykernel)",
   "language": "python",
   "name": "python3"
  },
  "language_info": {
   "codemirror_mode": {
    "name": "ipython",
    "version": 3
   },
   "file_extension": ".py",
   "mimetype": "text/x-python",
   "name": "python",
   "nbconvert_exporter": "python",
   "pygments_lexer": "ipython3",
   "version": "3.11.5"
  }
 },
 "nbformat": 4,
 "nbformat_minor": 5
}
