{
 "cells": [
  {
   "cell_type": "code",
   "execution_count": 3,
   "id": "91abc218-29e6-4238-8bb6-9f9cc07f1c66",
   "metadata": {},
   "outputs": [
    {
     "data": {
      "text/plain": [
       "Fraction(2, 5)"
      ]
     },
     "execution_count": 3,
     "metadata": {},
     "output_type": "execute_result"
    }
   ],
   "source": [
    "from fractions import Fraction\n",
    "import numpy as np\n",
    "v = [2, 1] \n",
    "c = [3, -4]\n",
    "def scalar_projection(v, c):\n",
    "    \"\"\"\n",
    "    Compute the scalar projection of vector v onto vector c.\n",
    "    \"\"\"\n",
    "    # Compute the dot product v . c\n",
    "    dot_product = np.dot(v, c)\n",
    "    \n",
    "    # Compute the magnitude of vector c\n",
    "    magnitude_c = np.linalg.norm(c)\n",
    "    \n",
    "    # Compute the scalar projection\n",
    "    proj = dot_product / magnitude_c\n",
    "    \n",
    "    # Return the result as a fraction\n",
    "    return Fraction(proj).limit_denominator()\n",
    "\n",
    "# Test the function with our previous vectors v and c\n",
    "scalar_projection_result = scalar_projection(v, c)\n",
    "scalar_projection_result\n"
   ]
  },
  {
   "cell_type": "code",
   "execution_count": null,
   "id": "0d5b5d25-accd-40d2-9e19-59e6d099c1c8",
   "metadata": {},
   "outputs": [],
   "source": []
  }
 ],
 "metadata": {
  "kernelspec": {
   "display_name": "Python 3 (ipykernel)",
   "language": "python",
   "name": "python3"
  },
  "language_info": {
   "codemirror_mode": {
    "name": "ipython",
    "version": 3
   },
   "file_extension": ".py",
   "mimetype": "text/x-python",
   "name": "python",
   "nbconvert_exporter": "python",
   "pygments_lexer": "ipython3",
   "version": "3.11.5"
  }
 },
 "nbformat": 4,
 "nbformat_minor": 5
}
