{
 "cells": [
  {
   "cell_type": "code",
   "execution_count": 2,
   "id": "fc63dc1d-1a43-411d-915a-404bff84dc57",
   "metadata": {},
   "outputs": [
    {
     "name": "stdout",
     "output_type": "stream",
     "text": [
      "WARNING:tensorflow:From C:\\Users\\njmon\\OneDrive\\Desktop\\Python_Data_Science_Notes\\JupyterNotebooks\\myenv\\Lib\\site-packages\\keras\\src\\losses.py:2976: The name tf.losses.sparse_softmax_cross_entropy is deprecated. Please use tf.compat.v1.losses.sparse_softmax_cross_entropy instead.\n",
      "\n"
     ]
    }
   ],
   "source": [
    "import numpy as np \n",
    "import tensorflow as tf\n",
    "from tensorflow.keras.layers import Dense"
   ]
  },
  {
   "cell_type": "code",
   "execution_count": 3,
   "id": "9d30f309-aec2-4356-8bfc-f7149119bcf3",
   "metadata": {},
   "outputs": [
    {
     "name": "stdout",
     "output_type": "stream",
     "text": [
      "WARNING:tensorflow:From C:\\Users\\njmon\\OneDrive\\Desktop\\Python_Data_Science_Notes\\JupyterNotebooks\\myenv\\Lib\\site-packages\\keras\\src\\backend.py:873: The name tf.get_default_graph is deprecated. Please use tf.compat.v1.get_default_graph instead.\n",
      "\n"
     ]
    }
   ],
   "source": [
    "x = np.array([[200, 17]]) #2d array \n",
    "layer_1 = Dense(units = 3, activation = 'sigmoid') #creating a layer with 3 neurons which is activated by sigmoid\n",
    "a_1 = layer_1(x) #output of a1"
   ]
  },
  {
   "cell_type": "code",
   "execution_count": 4,
   "id": "7ca48c85-d691-4da8-ae25-26367e5274e1",
   "metadata": {},
   "outputs": [
    {
     "name": "stdout",
     "output_type": "stream",
     "text": [
      "tf.Tensor([[0. 1. 0.]], shape=(1, 3), dtype=float32)\n"
     ]
    }
   ],
   "source": [
    "print(a_1)"
   ]
  },
  {
   "cell_type": "markdown",
   "id": "cfddc8e8-cf00-4cfe-97ed-6fe4132b1aeb",
   "metadata": {},
   "source": [
    "Forward Propagation: Hard Coding w/ Numpy"
   ]
  },
  {
   "cell_type": "code",
   "execution_count": 13,
   "id": "86bc99bd-37df-42bf-a5f6-7946546ba267",
   "metadata": {},
   "outputs": [
    {
     "name": "stdout",
     "output_type": "stream",
     "text": [
      "[1.]\n"
     ]
    }
   ],
   "source": [
    "x = np.array([200, 17]) #input array\n",
    "\n",
    "def sigmoid(z): \n",
    "    sig = 1 / 1 + np.e**-(z)\n",
    "    return sig\n",
    "    \n",
    "\n",
    "w1_1 = np.array([1, 3]) #Weight for first neuron in the first layer\n",
    "b1_1 = np.array([1]) #Corresponding bias\n",
    "z1_1 = np.dot(w1_1,x) + b1_1 #z = f(x)= w dot x +b \n",
    "a1_1 = sigmoid(z1_1) #activation via sigmoid \n",
    "print(a1_1)"
   ]
  },
  {
   "cell_type": "code",
   "execution_count": null,
   "id": "a2620cfd-442d-4717-9623-ffd499b13f55",
   "metadata": {},
   "outputs": [],
   "source": [
    "W = np.array([ #These are the output values of the previous layer neurons 's 1,2 ,  3,4,   5,6\n",
    "    [1, 3, 5]\n",
    "    [2, 4, 6]])\n",
    "\n",
    "b = np.array([1, 2, 3])\n",
    "a_1 = np.array([4, 5]) #a1 ouput values #a1 output values\n",
    "\n",
    "#define a function to take in a1 into a2\n",
    "def dense(W, a_in, b):\n",
    "    units = W.shape[1] # getting number of neurons\n",
    "    a_out = np.zeros(units) #initializing the a_out variable -> [0,0,0]\n",
    "    #for loop to iterate over a_out and input a2_j values\n",
    "    for j in units:\n",
    "        \n",
    "\n",
    "         "
   ]
  }
 ],
 "metadata": {
  "kernelspec": {
   "display_name": "Python 3 (ipykernel)",
   "language": "python",
   "name": "python3"
  },
  "language_info": {
   "codemirror_mode": {
    "name": "ipython",
    "version": 3
   },
   "file_extension": ".py",
   "mimetype": "text/x-python",
   "name": "python",
   "nbconvert_exporter": "python",
   "pygments_lexer": "ipython3",
   "version": "3.11.5"
  }
 },
 "nbformat": 4,
 "nbformat_minor": 5
}
